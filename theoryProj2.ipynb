{
  "nbformat": 4,
  "nbformat_minor": 0,
  "metadata": {
    "colab": {
      "provenance": []
    },
    "kernelspec": {
      "name": "python3",
      "display_name": "Python 3"
    },
    "language_info": {
      "name": "python"
    }
  },
  "cells": [
    {
      "cell_type": "markdown",
      "source": [
        "read in csv input file data"
      ],
      "metadata": {
        "id": "QZo2Rv2P9JiT"
      }
    },
    {
      "cell_type": "code",
      "execution_count": 120,
      "metadata": {
        "id": "oILRefV3822Z"
      },
      "outputs": [],
      "source": [
        "def read_data(file_name):\n",
        "  df = pd.read_csv(file_name)\n",
        "  df = df.fillna('')\n",
        "  df.head(15)\n",
        "\n",
        "  initialize_machine(df)\n",
        "\n"
      ]
    },
    {
      "cell_type": "code",
      "source": [
        "from google.colab import drive\n",
        "drive.mount('/content/drive')"
      ],
      "metadata": {
        "id": "HrLYZcek_y31"
      },
      "execution_count": null,
      "outputs": []
    },
    {
      "cell_type": "markdown",
      "source": [
        "turn df into usable data structures for machine and tapes"
      ],
      "metadata": {
        "id": "H0el0OsVqzI_"
      }
    },
    {
      "cell_type": "code",
      "source": [
        "def initialize_machine(df):\n",
        "  #initialize values\n",
        "  machine_name = df.iloc[0,0]\n",
        "  k_value = int(df.iloc[0,1])\n",
        "  start_state = df.iloc[2,0]\n",
        "  accept_state = df.iloc[3,0]\n",
        "  reject_state = df.iloc[4,0]\n",
        "  halt_condition = int(df.iloc[5,1])\n",
        "\n",
        "  tapes = []\n",
        "  transitions = {}\n",
        "\n",
        "  #put tapes in a list\n",
        "  for i in range(k_value):\n",
        "    tapes.append(df.iloc[1, i])\n",
        "\n",
        "  #get rest of transitions, put into dict\n",
        "  num_transitions = len(df[6:])\n",
        "  for j in range(6, num_transitions+6):\n",
        "    init_state = df.iloc[j,0]\n",
        "    next_state = df.iloc[j,k_value+1]\n",
        "    input_symbols = tuple(df.iloc[j,1:k_value+1])\n",
        "    new_symbols = tuple(df.iloc[j,k_value+2:k_value+k_value+2])\n",
        "    moves = tuple(df.iloc[j, k_value+k_value+2:])\n",
        "\n",
        "    transitions[(init_state, input_symbols)] = (next_state, new_symbols, moves)\n",
        "  \"\"\"\n",
        "  print(transitions)\n",
        "  print(accept_state)\n",
        "  print(reject_state)\n",
        "  print(halt_condition)\n",
        "  print(tapes)\n",
        "  \"\"\"\n",
        "  val = move_through_machine(machine_name, tapes, transitions, accept_state, reject_state, halt_condition, k_value)"
      ],
      "metadata": {
        "id": "HQ7B2X0R_dfC"
      },
      "execution_count": 143,
      "outputs": []
    },
    {
      "cell_type": "markdown",
      "source": [
        "move through machine"
      ],
      "metadata": {
        "id": "5Sg9Hpmsq4zd"
      }
    },
    {
      "cell_type": "code",
      "source": [
        "def move_through_machine(machine_name, tapes, transitions, accept_state, reject_state, halt_condition, k_value):\n",
        "  #initialize tape heads at first char as list\n",
        "  heads = [0] * k_value\n",
        "\n",
        "  start_state = list(transitions.keys())[0][0] #assume first listed transition state is start state\n",
        "  current_state = start_state\n",
        "  #print(current_state)\n",
        "\n",
        "  print(f\"Machine: {machine_name}\")\n",
        "  print(f\"Tape Input(s): {tapes}\")\n",
        "  print()\n",
        "\n",
        "  step = 1\n",
        "  while step < halt_condition:\n",
        "    transition_found = False\n",
        "    print(f\"Step {step}:\")\n",
        "\n",
        "    #print state of all tapes, with space before where tape heads are\n",
        "    for i in range(k_value):\n",
        "      print(f\"Tape {i+1}:\", end=\" \")\n",
        "      head_spot = heads[i]\n",
        "      print(f\"{tapes[i][:head_spot]} {tapes[i][head_spot:]}\")\n",
        "\n",
        "    #find symbols at tape heads rn\n",
        "    current_symbols = [tapes[i][heads[i]] for i in range(k_value)]\n",
        "    current_symbols = tuple(current_symbols)\n",
        "    #print(current_symbols)\n",
        "\n",
        "    #find appropriate transition\n",
        "    #print(transitions)\n",
        "    #print(current_state)\n",
        "    acceptable_symbols = []\n",
        "    trans_states = [list(transitions.keys())[i][0] for i in range(len(transitions))]\n",
        "    #print(trans)\n",
        "    #print(transitions[(current_state, current_symbols)])\n",
        "    if current_state in trans_states: #if current state even in list of initial states\n",
        "      match_key = None #store matching key if found, needed bc of wild card\n",
        "\n",
        "      if (current_state, current_symbols) in transitions.keys():\n",
        "        #print('hey')\n",
        "        #print(current_state)\n",
        "        #print(current_symbols)\n",
        "        #print(transitions[(current_state, current_symbols)])\n",
        "        next_state, new_symbols, moves = transitions[(current_state, current_symbols)]\n",
        "        print(f\"Selected Transition: {(current_state, current_symbols)} -> {next_state}, {new_symbols}, {moves}\")\n",
        "        transition_found = True\n",
        "        print()\n",
        "\n",
        "      else:\n",
        "        allow = 1 #sees if * allows passing\n",
        "        for (start_state, symbols) in transitions.keys():\n",
        "          if start_state == current_state:\n",
        "              match = True\n",
        "              for i in range(len(symbols)):  #iterate through indices\n",
        "                  if symbols[i] != current_symbols[i] and symbols[i] != '*':\n",
        "                      match = False\n",
        "                      break\n",
        "              if match:\n",
        "                  best_match_key = (start_state, symbols)\n",
        "                  break\n",
        "        if best_match_key:\n",
        "          #access the transition using the found key\n",
        "          next_state, new_symbols, moves = transitions[best_match_key]\n",
        "          print(f\"Selected Transition: {best_match_key} -> {next_state}, {new_symbols}, {moves}\")\n",
        "          transition_found = True\n",
        "          print()\n",
        "        else:\n",
        "          #if no matching transition is found, halt machine\n",
        "          print(\"No valid transition found. Halting.\")\n",
        "          break\n",
        "    else: #nowhere to go from current state\n",
        "      print('halt')\n",
        "      break\n",
        "\n",
        "    if transition_found: #overwrite necessary characters\n",
        "      for i in range(k_value):\n",
        "        if new_symbols[i] != '*':\n",
        "          tapes[i] = tapes[i][:heads[i]] + new_symbols[i] + tapes[i][heads[i]+1:]\n",
        "\n",
        "    current_state = next_state\n",
        "    current_symbols = new_symbols\n",
        "    for index, move in enumerate(moves):\n",
        "      if move == 'R' and heads[index]+1 < len(tapes[index]):\n",
        "        heads[index] = (heads[index] + 1)\n",
        "      elif move == 'R' and heads[index] == len(tapes[index])-1:\n",
        "        tapes[index] += '_'\n",
        "        heads[index] = (heads[index] + 1)\n",
        "      elif move == 'L' and heads[index] > 0:\n",
        "        heads[index] = (heads[index] - 1)\n",
        "\n",
        "    if current_state == 'qacc':\n",
        "      print(\"Machine Accepted\")\n",
        "      return 0\n",
        "    elif current_state == 'qrej':\n",
        "      print(\"Machine Rejected\")\n",
        "      return 1\n",
        "    else:\n",
        "      step += 1\n",
        "\n",
        "  print(\"Halting condition met. Halting\")\n",
        "  return 1\n"
      ],
      "metadata": {
        "id": "ZjWAqhWdZqaw"
      },
      "execution_count": 144,
      "outputs": []
    },
    {
      "cell_type": "code",
      "source": [
        "import pandas as pd\n",
        "\n",
        "#designate input file\n",
        "file_name = \"/content/theory - simple machine.csv\"\n",
        "#file_name = \"/content/theory - DNA complementer.csv\"\n",
        "#file_name = \"/content/theory - palindrome checker.csv\"\n",
        "\n",
        "\n",
        "#effectively the \"main\", just call this and it will output(for clean output)\n",
        "read_data(file_name)\n",
        "\n"
      ],
      "metadata": {
        "colab": {
          "base_uri": "https://localhost:8080/"
        },
        "id": "xPnxKqByRPQv",
        "outputId": "99ae6e7d-aa66-4158-faaf-a39348b7e9d0"
      },
      "execution_count": 152,
      "outputs": [
        {
          "output_type": "stream",
          "name": "stdout",
          "text": [
            "Machine: Machine One\n",
            "Tape Input(s): ['110', '101']\n",
            "\n",
            "Step 1:\n",
            "Tape 1:  110\n",
            "Tape 2:  101\n",
            "Selected Transition: ('q0', ('*', '*')) -> q1, ('1', '*'), ('R', 'S')\n",
            "\n",
            "Step 2:\n",
            "Tape 1: 1 10\n",
            "Tape 2:  101\n",
            "Selected Transition: ('q1', ('1', '1')) -> q2, ('0', '0'), ('R', 'R')\n",
            "\n",
            "Step 3:\n",
            "Tape 1: 10 0\n",
            "Tape 2: 0 01\n",
            "Selected Transition: ('q2', ('0', '0')) -> qacc, ('*', '*'), ('R', 'R')\n",
            "\n",
            "Machine Accepted\n"
          ]
        }
      ]
    },
    {
      "cell_type": "code",
      "source": [],
      "metadata": {
        "id": "NA90-Hlrswjm"
      },
      "execution_count": null,
      "outputs": []
    }
  ]
}